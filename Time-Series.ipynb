{
 "cells": [
  {
   "cell_type": "code",
   "execution_count": 1,
   "metadata": {},
   "outputs": [
    {
     "data": {
      "text/html": [
       "<script>requirejs.config({paths: { 'plotly': ['https://cdn.plot.ly/plotly-latest.min']},});if(!window.Plotly) {{require(['plotly'],function(plotly) {window.Plotly=plotly;});}}</script>"
      ],
      "text/vnd.plotly.v1+html": [
       "<script>requirejs.config({paths: { 'plotly': ['https://cdn.plot.ly/plotly-latest.min']},});if(!window.Plotly) {{require(['plotly'],function(plotly) {window.Plotly=plotly;});}}</script>"
      ]
     },
     "metadata": {},
     "output_type": "display_data"
    }
   ],
   "source": [
    "import plotly.plotly as py\n",
    "import plotly.graph_objs as go\n",
    "import plotly.offline as offline\n",
    "\n",
    "offline.init_notebook_mode(connected=True)"
   ]
  },
  {
   "cell_type": "markdown",
   "metadata": {},
   "source": [
    "#### Install Pandas Data Reader\n",
    "Pandas Data Reader is a tool to download data from a variety of remote sources into a Pandas dataframe. The list of remote sources currently supported can be found here: <br />\n",
    "http://pandas-datareader.readthedocs.io/en/latest/remote_data.html\n",
    "\n",
    "A number of data sources are supported, including Google Finance, IEX, World Bank etc. "
   ]
  },
  {
   "cell_type": "markdown",
   "metadata": {},
   "source": [
    "Functions from pandas_datareader.data and pandas_datareader.wb extract data from various Internet\n",
    "sources into a pandas DataFrame. Currently the following sources are supported:\n",
    "• Google Finance\n",
    "• Morningstar\n",
    "• IEX\n",
    "• Robinhood\n",
    "• Enigma\n",
    "• Quandl\n",
    "• St.Louis FED (FRED)\n",
    "• Kenneth French’s data library\n",
    "• World Bank\n",
    "• OECD\n",
    "• Eurostat\n",
    "• Thrift Savings Plan\n",
    "• Nasdaq Trader symbol definitions\n",
    "• Stooq\n",
    "• MOEX"
   ]
  },
  {
   "cell_type": "code",
   "execution_count": 2,
   "metadata": {},
   "outputs": [
    {
     "name": "stdout",
     "output_type": "stream",
     "text": [
      "Collecting pandas_datareader\n",
      "  Downloading https://files.pythonhosted.org/packages/be/76/639c60ede26458dadf76bacaa9cbcc76f8cc5082fb2b2d90d0a90c699d36/pandas_datareader-0.6.0-py2.py3-none-any.whl (103kB)\n",
      "Requirement already satisfied, skipping upgrade: pandas>=0.19.2 in c:\\users\\kunal dhariwal\\anaconda3\\lib\\site-packages (from pandas_datareader) (0.22.0)\n",
      "Requirement already satisfied, skipping upgrade: wrapt in c:\\users\\kunal dhariwal\\anaconda3\\lib\\site-packages (from pandas_datareader) (1.10.11)\n",
      "Collecting requests-file (from pandas_datareader)\n",
      "  Downloading https://files.pythonhosted.org/packages/23/9c/6e63c23c39e53d3df41c77a3d05a49a42c4e1383a6d2a5e3233161b89dbf/requests_file-1.4.3-py2.py3-none-any.whl\n",
      "Requirement already satisfied, skipping upgrade: lxml in c:\\users\\kunal dhariwal\\anaconda3\\lib\\site-packages (from pandas_datareader) (4.1.1)\n",
      "Requirement already satisfied, skipping upgrade: requests>=2.3.0 in c:\\users\\kunal dhariwal\\anaconda3\\lib\\site-packages (from pandas_datareader) (2.18.4)\n",
      "Collecting requests-ftp (from pandas_datareader)\n",
      "  Downloading https://files.pythonhosted.org/packages/3d/ca/14b2ad1e93b5195eeaf56b86b7ecfd5ea2d5754a68d17aeb1e5b9f95b3cf/requests-ftp-0.3.1.tar.gz\n",
      "Requirement already satisfied, skipping upgrade: python-dateutil>=2 in c:\\users\\kunal dhariwal\\anaconda3\\lib\\site-packages (from pandas>=0.19.2->pandas_datareader) (2.6.1)\n",
      "Requirement already satisfied, skipping upgrade: pytz>=2011k in c:\\users\\kunal dhariwal\\anaconda3\\lib\\site-packages (from pandas>=0.19.2->pandas_datareader) (2017.3)\n",
      "Requirement already satisfied, skipping upgrade: numpy>=1.9.0 in c:\\users\\kunal dhariwal\\anaconda3\\lib\\site-packages (from pandas>=0.19.2->pandas_datareader) (1.14.0)\n",
      "Requirement already satisfied, skipping upgrade: six in c:\\users\\kunal dhariwal\\anaconda3\\lib\\site-packages (from requests-file->pandas_datareader) (1.11.0)\n",
      "Requirement already satisfied, skipping upgrade: chardet<3.1.0,>=3.0.2 in c:\\users\\kunal dhariwal\\anaconda3\\lib\\site-packages (from requests>=2.3.0->pandas_datareader) (3.0.4)\n",
      "Requirement already satisfied, skipping upgrade: idna<2.7,>=2.5 in c:\\users\\kunal dhariwal\\anaconda3\\lib\\site-packages (from requests>=2.3.0->pandas_datareader) (2.6)\n",
      "Requirement already satisfied, skipping upgrade: urllib3<1.23,>=1.21.1 in c:\\users\\kunal dhariwal\\anaconda3\\lib\\site-packages (from requests>=2.3.0->pandas_datareader) (1.22)\n",
      "Requirement already satisfied, skipping upgrade: certifi>=2017.4.17 in c:\\users\\kunal dhariwal\\anaconda3\\lib\\site-packages (from requests>=2.3.0->pandas_datareader) (2018.1.18)\n",
      "Building wheels for collected packages: requests-ftp\n",
      "  Running setup.py bdist_wheel for requests-ftp: started\n",
      "  Running setup.py bdist_wheel for requests-ftp: finished with status 'done'\n",
      "  Stored in directory: C:\\Users\\Kunal Dhariwal\\AppData\\Local\\pip\\Cache\\wheels\\2a\\98\\32\\37195e45a3392a73d9f65c488cbea30fe5bad76aaef4d6b020\n",
      "Successfully built requests-ftp\n",
      "Installing collected packages: requests-file, requests-ftp, pandas-datareader\n",
      "Successfully installed pandas-datareader-0.6.0 requests-file-1.4.3 requests-ftp-0.3.1\n"
     ]
    }
   ],
   "source": [
    "!pip install pandas_datareader --upgrade"
   ]
  },
  {
   "cell_type": "code",
   "execution_count": 3,
   "metadata": {},
   "outputs": [],
   "source": [
    "from datetime import datetime\n",
    "import pandas as pd\n",
    "pd.core.common.is_list_like = pd.api.types.is_list_like\n",
    "\n",
    "import pandas_datareader.data as web"
   ]
  },
  {
   "cell_type": "markdown",
   "metadata": {},
   "source": [
    "#### Get Amazon stock data from Morningstar\n",
    "Morningstar is an investment research and management firm which supplies OHLC (Open, High, Low, Close) data for stocks. We get the OHLC data for Amazon stock for an 18-month period from 1-Jan-2017 to 1-Jun-2018."
   ]
  },
  {
   "cell_type": "code",
   "execution_count": 4,
   "metadata": {},
   "outputs": [
    {
     "ename": "Exception",
     "evalue": "Request Error!: 404 : Not Found",
     "output_type": "error",
     "traceback": [
      "\u001b[1;31m---------------------------------------------------------------------------\u001b[0m",
      "\u001b[1;31mException\u001b[0m                                 Traceback (most recent call last)",
      "\u001b[1;32m<ipython-input-4-2bbd8c20f928>\u001b[0m in \u001b[0;36m<module>\u001b[1;34m()\u001b[0m\n\u001b[0;32m      2\u001b[0m \u001b[1;33m\u001b[0m\u001b[0m\n\u001b[0;32m      3\u001b[0m                       \u001b[0mdatetime\u001b[0m\u001b[1;33m(\u001b[0m\u001b[1;36m2017\u001b[0m\u001b[1;33m,\u001b[0m \u001b[1;36m1\u001b[0m\u001b[1;33m,\u001b[0m \u001b[1;36m1\u001b[0m\u001b[1;33m)\u001b[0m\u001b[1;33m,\u001b[0m\u001b[1;33m\u001b[0m\u001b[0m\n\u001b[1;32m----> 4\u001b[1;33m                       datetime(2018, 6, 1)).reset_index()\n\u001b[0m\u001b[0;32m      5\u001b[0m \u001b[1;33m\u001b[0m\u001b[0m\n\u001b[0;32m      6\u001b[0m \u001b[0mamzn\u001b[0m\u001b[1;33m.\u001b[0m\u001b[0mhead\u001b[0m\u001b[1;33m(\u001b[0m\u001b[1;33m)\u001b[0m\u001b[1;33m\u001b[0m\u001b[0m\n",
      "\u001b[1;32m~\\Anaconda3\\lib\\site-packages\\pandas_datareader\\data.py\u001b[0m in \u001b[0;36mDataReader\u001b[1;34m(name, data_source, start, end, retry_count, pause, session, access_key)\u001b[0m\n\u001b[0;32m    389\u001b[0m         return MorningstarDailyReader(symbols=name, start=start, end=end,\n\u001b[0;32m    390\u001b[0m                                       \u001b[0mretry_count\u001b[0m\u001b[1;33m=\u001b[0m\u001b[0mretry_count\u001b[0m\u001b[1;33m,\u001b[0m \u001b[0mpause\u001b[0m\u001b[1;33m=\u001b[0m\u001b[0mpause\u001b[0m\u001b[1;33m,\u001b[0m\u001b[1;33m\u001b[0m\u001b[0m\n\u001b[1;32m--> 391\u001b[1;33m                                       session=session, interval=\"d\").read()\n\u001b[0m\u001b[0;32m    392\u001b[0m     \u001b[1;32melif\u001b[0m \u001b[0mdata_source\u001b[0m \u001b[1;33m==\u001b[0m \u001b[1;34m'robinhood'\u001b[0m\u001b[1;33m:\u001b[0m\u001b[1;33m\u001b[0m\u001b[0m\n\u001b[0;32m    393\u001b[0m         return RobinhoodHistoricalReader(symbols=name, start=start, end=end,\n",
      "\u001b[1;32m~\\Anaconda3\\lib\\site-packages\\pandas_datareader\\mstar\\daily.py\u001b[0m in \u001b[0;36mread\u001b[1;34m(self)\u001b[0m\n\u001b[0;32m    217\u001b[0m                             \"type %s\" % type(self.symbols))\n\u001b[0;32m    218\u001b[0m \u001b[1;33m\u001b[0m\u001b[0m\n\u001b[1;32m--> 219\u001b[1;33m         \u001b[0mdf\u001b[0m \u001b[1;33m=\u001b[0m \u001b[0mself\u001b[0m\u001b[1;33m.\u001b[0m\u001b[0m_dl_mult_symbols\u001b[0m\u001b[1;33m(\u001b[0m\u001b[0msymbols\u001b[0m\u001b[1;33m=\u001b[0m\u001b[0msymbols\u001b[0m\u001b[1;33m)\u001b[0m\u001b[1;33m\u001b[0m\u001b[0m\n\u001b[0m\u001b[0;32m    220\u001b[0m         \u001b[1;32mif\u001b[0m \u001b[0mlen\u001b[0m\u001b[1;33m(\u001b[0m\u001b[0mdf\u001b[0m\u001b[1;33m.\u001b[0m\u001b[0mindex\u001b[0m\u001b[1;33m.\u001b[0m\u001b[0mlevels\u001b[0m\u001b[1;33m[\u001b[0m\u001b[1;36m0\u001b[0m\u001b[1;33m]\u001b[0m\u001b[1;33m)\u001b[0m \u001b[1;33m==\u001b[0m \u001b[1;36m0\u001b[0m\u001b[1;33m:\u001b[0m\u001b[1;33m\u001b[0m\u001b[0m\n\u001b[0;32m    221\u001b[0m             \u001b[1;32mraise\u001b[0m \u001b[0mValueError\u001b[0m\u001b[1;33m(\u001b[0m\u001b[1;34m\"None of the provided symbols were valid\"\u001b[0m\u001b[1;33m)\u001b[0m\u001b[1;33m\u001b[0m\u001b[0m\n",
      "\u001b[1;32m~\\Anaconda3\\lib\\site-packages\\pandas_datareader\\mstar\\daily.py\u001b[0m in \u001b[0;36m_dl_mult_symbols\u001b[1;34m(self, symbols)\u001b[0m\n\u001b[0;32m    128\u001b[0m                 \u001b[1;32melse\u001b[0m\u001b[1;33m:\u001b[0m\u001b[1;33m\u001b[0m\u001b[0m\n\u001b[0;32m    129\u001b[0m                     raise Exception(\"Request Error!: %s : %s\" % (\n\u001b[1;32m--> 130\u001b[1;33m                         resp.status_code, resp.reason))\n\u001b[0m\u001b[0;32m    131\u001b[0m \u001b[1;33m\u001b[0m\u001b[0m\n\u001b[0;32m    132\u001b[0m             \u001b[0mtime\u001b[0m\u001b[1;33m.\u001b[0m\u001b[0msleep\u001b[0m\u001b[1;33m(\u001b[0m\u001b[0mself\u001b[0m\u001b[1;33m.\u001b[0m\u001b[0mpause\u001b[0m\u001b[1;33m)\u001b[0m\u001b[1;33m\u001b[0m\u001b[0m\n",
      "\u001b[1;31mException\u001b[0m: Request Error!: 404 : Not Found"
     ]
    }
   ],
   "source": [
    "amzn = web.DataReader('AMZN', 'morningstar',\n",
    "                      \n",
    "                      datetime(2017, 1, 1),\n",
    "                      datetime(2018, 6, 1)).reset_index()\n",
    "\n",
    "amzn.head()"
   ]
  },
  {
   "cell_type": "markdown",
   "metadata": {},
   "source": [
    "#### Plot a graph of high price vs date\n",
    "This will produce a time series"
   ]
  },
  {
   "cell_type": "code",
   "execution_count": null,
   "metadata": {},
   "outputs": [],
   "source": [
    "data = [go.Scatter(x=amzn.Date, \n",
    "                   y=amzn.High)]\n",
    "\n",
    "offline.iplot(data)"
   ]
  },
  {
   "cell_type": "markdown",
   "metadata": {},
   "source": [
    "#### Plot Amazon high and low on the same graph"
   ]
  },
  {
   "cell_type": "code",
   "execution_count": null,
   "metadata": {},
   "outputs": [],
   "source": [
    "trace_high = go.Scatter(x=amzn.Date,\n",
    "                        y=amzn.High,\n",
    "                        \n",
    "                        name = \"Amazon High\",\n",
    "                        \n",
    "                        line = dict(color = '#6699FF')\n",
    "                       )"
   ]
  },
  {
   "cell_type": "code",
   "execution_count": null,
   "metadata": {},
   "outputs": [],
   "source": [
    "trace_low = go.Scatter(x=amzn.Date,\n",
    "                       y=amzn.Low,\n",
    "                       \n",
    "                       name = \"Amazon Low\",\n",
    "                       \n",
    "                       line = dict(color = '#FF6633')\n",
    "                      )"
   ]
  },
  {
   "cell_type": "code",
   "execution_count": null,
   "metadata": {},
   "outputs": [],
   "source": [
    "data = [trace_high, trace_low]\n",
    "\n",
    "layout = dict(title = \"Amazon Stock Price Data \")"
   ]
  },
  {
   "cell_type": "code",
   "execution_count": null,
   "metadata": {},
   "outputs": [],
   "source": [
    "fig = dict(data=data, \n",
    "           layout=layout)\n",
    "\n",
    "offline.iplot(fig)"
   ]
  },
  {
   "cell_type": "markdown",
   "metadata": {},
   "source": [
    "### Range slider\n",
    "We can add a range slider to an axis to allow the range of data displayed to be restricted"
   ]
  },
  {
   "cell_type": "code",
   "execution_count": null,
   "metadata": {},
   "outputs": [],
   "source": [
    "layout = dict(title = 'Amazon Stock Price Data',\n",
    "              \n",
    "              xaxis = dict(rangeslider=dict(),\n",
    "                           type='date')\n",
    "             )"
   ]
  },
  {
   "cell_type": "code",
   "execution_count": null,
   "metadata": {},
   "outputs": [],
   "source": [
    "fig = dict(data=data, \n",
    "           layout=layout)\n",
    "\n",
    "offline.iplot(fig)"
   ]
  },
  {
   "cell_type": "markdown",
   "metadata": {},
   "source": [
    "#### Range Selector\n",
    "In addition to range sliders, we can include rangeselector buttons where we can quickly restrict the plotted range:\n",
    "* <b>step</b> is a time interval to set the range. Can be year, month, day, hour, minute, second and all\n",
    "* <b>stepmode</b> value can be 'todate' or 'backward'. \n",
    " * A value of 'todate' with a step of 'month' means that the left of the range slider will move to the start of the month (and the right will remain where it is)\n",
    " * A value of 'backward' will keep the right slider where it is, and shift the left slider back by the value of count. In our example, the left slider will move back 6 months from the position of the right slider"
   ]
  },
  {
   "cell_type": "code",
   "execution_count": null,
   "metadata": {},
   "outputs": [],
   "source": [
    "layout = dict(\n",
    "    \n",
    "    title = 'Amazon Stock Price Data ',\n",
    "    \n",
    "    xaxis = dict(rangeselector = dict(buttons = list([dict(count = 1,\n",
    "                                                           label = '1m',\n",
    "                                                           step = 'month',\n",
    "                                                           stepmode = 'todate'),\n",
    "                                                  \n",
    "                                                      dict(count = 6,\n",
    "                                                           label = '6m',\n",
    "                                                           step = 'month',\n",
    "                                                           stepmode = 'backward'),\n",
    "                                                  \n",
    "                                                      dict(step = 'all')])\n",
    "                                     ),\n",
    "                 \n",
    "                 rangeslider=dict(),\n",
    "                 type='date'\n",
    "    )\n",
    ")"
   ]
  },
  {
   "cell_type": "code",
   "execution_count": null,
   "metadata": {},
   "outputs": [],
   "source": [
    "fig = dict(data=data, \n",
    "           layout=layout)\n",
    "\n",
    "offline.iplot(fig)"
   ]
  },
  {
   "cell_type": "code",
   "execution_count": null,
   "metadata": {},
   "outputs": [],
   "source": []
  }
 ],
 "metadata": {
  "kernelspec": {
   "display_name": "Python 3",
   "language": "python",
   "name": "python3"
  },
  "language_info": {
   "codemirror_mode": {
    "name": "ipython",
    "version": 3
   },
   "file_extension": ".py",
   "mimetype": "text/x-python",
   "name": "python",
   "nbconvert_exporter": "python",
   "pygments_lexer": "ipython3",
   "version": "3.6.4"
  }
 },
 "nbformat": 4,
 "nbformat_minor": 2
}
