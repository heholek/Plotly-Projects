{
 "cells": [
  {
   "cell_type": "code",
   "execution_count": 1,
   "metadata": {},
   "outputs": [
    {
     "data": {
      "text/html": [
       "<script>requirejs.config({paths: { 'plotly': ['https://cdn.plot.ly/plotly-latest.min']},});if(!window.Plotly) {{require(['plotly'],function(plotly) {window.Plotly=plotly;});}}</script>"
      ],
      "text/vnd.plotly.v1+html": [
       "<script>requirejs.config({paths: { 'plotly': ['https://cdn.plot.ly/plotly-latest.min']},});if(!window.Plotly) {{require(['plotly'],function(plotly) {window.Plotly=plotly;});}}</script>"
      ]
     },
     "metadata": {},
     "output_type": "display_data"
    }
   ],
   "source": [
    "import plotly.plotly as py\n",
    "import plotly.graph_objs as go\n",
    "import plotly.offline as offline\n",
    "\n",
    "offline.init_notebook_mode(connected=True)"
   ]
  },
  {
   "cell_type": "markdown",
   "metadata": {},
   "source": [
    "#### Plot a simple heatmap\n",
    "The required argument for a Heatmap is <b>z</b> - a 2D list containing the set of values which need to be portrayed using a colorscale. THe heatmap is a 2D grid in the same shape as z with different colors denoting the values of the elements of z. \n",
    "\n",
    "The simplest heatmap is a single 1-dimensional list"
   ]
  },
  {
   "cell_type": "code",
   "execution_count": 2,
   "metadata": {},
   "outputs": [],
   "source": [
    "trace = go.Heatmap(z = [[2, 40, 60]])"
   ]
  },
  {
   "cell_type": "markdown",
   "metadata": {},
   "source": [
    "#### By default, the color scale is displayed"
   ]
  },
  {
   "cell_type": "code",
   "execution_count": 3,
   "metadata": {},
   "outputs": [
    {
     "data": {
      "application/vnd.plotly.v1+json": {
       "data": [
        {
         "type": "heatmap",
         "uid": "dc2bfea4-a9e9-11e8-8df8-70c94eeec314",
         "z": [
          [
           2,
           40,
           60
          ]
         ]
        }
       ],
       "layout": {}
      },
      "text/html": [
       "<div id=\"ce07fa7f-5fc1-45c1-973b-b143ee00deb6\" style=\"height: 525px; width: 100%;\" class=\"plotly-graph-div\"></div><script type=\"text/javascript\">require([\"plotly\"], function(Plotly) { window.PLOTLYENV=window.PLOTLYENV || {};window.PLOTLYENV.BASE_URL=\"https://plot.ly\";Plotly.newPlot(\"ce07fa7f-5fc1-45c1-973b-b143ee00deb6\", [{\"z\": [[2, 40, 60]], \"type\": \"heatmap\", \"uid\": \"dcbb2818-a9e9-11e8-b85e-70c94eeec314\"}], {}, {\"showLink\": true, \"linkText\": \"Export to plot.ly\"})});</script>"
      ],
      "text/vnd.plotly.v1+html": [
       "<div id=\"ce07fa7f-5fc1-45c1-973b-b143ee00deb6\" style=\"height: 525px; width: 100%;\" class=\"plotly-graph-div\"></div><script type=\"text/javascript\">require([\"plotly\"], function(Plotly) { window.PLOTLYENV=window.PLOTLYENV || {};window.PLOTLYENV.BASE_URL=\"https://plot.ly\";Plotly.newPlot(\"ce07fa7f-5fc1-45c1-973b-b143ee00deb6\", [{\"z\": [[2, 40, 60]], \"type\": \"heatmap\", \"uid\": \"dcbb2818-a9e9-11e8-b85e-70c94eeec314\"}], {}, {\"showLink\": true, \"linkText\": \"Export to plot.ly\"})});</script>"
      ]
     },
     "metadata": {},
     "output_type": "display_data"
    }
   ],
   "source": [
    "data=[trace]\n",
    "\n",
    "offline.iplot(data)"
   ]
  },
  {
   "cell_type": "markdown",
   "metadata": {},
   "source": [
    "#### The more common case is to use a proper 2D list"
   ]
  },
  {
   "cell_type": "code",
   "execution_count": 4,
   "metadata": {},
   "outputs": [],
   "source": [
    "trace = go.Heatmap(z = [[2, 40, 60], \n",
    "                       [31, 3, 18], \n",
    "                       [24, 13, 54]])"
   ]
  },
  {
   "cell_type": "markdown",
   "metadata": {},
   "source": [
    "#### The first list is at the bottom of the heatmap"
   ]
  },
  {
   "cell_type": "code",
   "execution_count": 5,
   "metadata": {},
   "outputs": [
    {
     "data": {
      "application/vnd.plotly.v1+json": {
       "data": [
        {
         "type": "heatmap",
         "uid": "dcd2c100-a9e9-11e8-b474-70c94eeec314",
         "z": [
          [
           2,
           40,
           60
          ],
          [
           31,
           3,
           18
          ],
          [
           24,
           13,
           54
          ]
         ]
        }
       ],
       "layout": {}
      },
      "text/html": [
       "<div id=\"db7953b2-7d7c-43e7-865a-12f6c0cb78db\" style=\"height: 525px; width: 100%;\" class=\"plotly-graph-div\"></div><script type=\"text/javascript\">require([\"plotly\"], function(Plotly) { window.PLOTLYENV=window.PLOTLYENV || {};window.PLOTLYENV.BASE_URL=\"https://plot.ly\";Plotly.newPlot(\"db7953b2-7d7c-43e7-865a-12f6c0cb78db\", [{\"z\": [[2, 40, 60], [31, 3, 18], [24, 13, 54]], \"type\": \"heatmap\", \"uid\": \"dcd79e2e-a9e9-11e8-9577-70c94eeec314\"}], {}, {\"showLink\": true, \"linkText\": \"Export to plot.ly\"})});</script>"
      ],
      "text/vnd.plotly.v1+html": [
       "<div id=\"db7953b2-7d7c-43e7-865a-12f6c0cb78db\" style=\"height: 525px; width: 100%;\" class=\"plotly-graph-div\"></div><script type=\"text/javascript\">require([\"plotly\"], function(Plotly) { window.PLOTLYENV=window.PLOTLYENV || {};window.PLOTLYENV.BASE_URL=\"https://plot.ly\";Plotly.newPlot(\"db7953b2-7d7c-43e7-865a-12f6c0cb78db\", [{\"z\": [[2, 40, 60], [31, 3, 18], [24, 13, 54]], \"type\": \"heatmap\", \"uid\": \"dcd79e2e-a9e9-11e8-9577-70c94eeec314\"}], {}, {\"showLink\": true, \"linkText\": \"Export to plot.ly\"})});</script>"
      ]
     },
     "metadata": {},
     "output_type": "display_data"
    }
   ],
   "source": [
    "data=[trace]\n",
    "\n",
    "offline.iplot(data)"
   ]
  },
  {
   "cell_type": "markdown",
   "metadata": {},
   "source": [
    "### A more practical example\n",
    "One can plot a heatmap using categorical data for the X and Y axes. The values in these axes must be unique. This will plot a grid if the shape (x,y) and z must conform to that shape\n",
    "\n",
    "Consider there are three cartons with 5 different varieties of fruits. And z is number of the respective fruit in the carton"
   ]
  },
  {
   "cell_type": "code",
   "execution_count": 6,
   "metadata": {},
   "outputs": [],
   "source": [
    "x=['Mango', 'Strawberry', 'Mulberry', 'Orange', 'Watermelon']\n",
    "\n",
    "y=['Carton 1', 'Carton 2', 'Carton 3']"
   ]
  },
  {
   "cell_type": "markdown",
   "metadata": {},
   "source": [
    "#### Plot the heatmap\n",
    "We specify a colorscale to use. We specify the reversecale attibute which reverses the colors used in the colorscale. For example, with our reversescale, the lower z values are represented by yellow and the higher values are dark blue. Without the reversescale, this would have been reversed. "
   ]
  },
  {
   "cell_type": "code",
   "execution_count": 7,
   "metadata": {},
   "outputs": [],
   "source": [
    "trace = go.Heatmap(z = [[10, 20, 30, 40, 10], \n",
    "                       [20, 10, 50, 80, 30], \n",
    "                       [30, 50, 60, 10,  0]],\n",
    "                   \n",
    "                   x = x,\n",
    "                   y = y,\n",
    "                   \n",
    "                   colorscale = 'Viridis',\n",
    "                   reversescale = True\n",
    "                  )\n"
   ]
  },
  {
   "cell_type": "code",
   "execution_count": 8,
   "metadata": {},
   "outputs": [
    {
     "data": {
      "application/vnd.plotly.v1+json": {
       "data": [
        {
         "colorscale": "Viridis",
         "reversescale": true,
         "type": "heatmap",
         "uid": "dd0a1a7a-a9e9-11e8-89a9-70c94eeec314",
         "x": [
          "Mango",
          "Strawberry",
          "Mulberry",
          "Orange",
          "Watermelon"
         ],
         "y": [
          "Carton 1",
          "Carton 2",
          "Carton 3"
         ],
         "z": [
          [
           10,
           20,
           30,
           40,
           10
          ],
          [
           20,
           10,
           50,
           80,
           30
          ],
          [
           30,
           50,
           60,
           10,
           0
          ]
         ]
        }
       ],
       "layout": {}
      },
      "text/html": [
       "<div id=\"40fe91c2-81b4-424c-8f29-ac2c795e0741\" style=\"height: 525px; width: 100%;\" class=\"plotly-graph-div\"></div><script type=\"text/javascript\">require([\"plotly\"], function(Plotly) { window.PLOTLYENV=window.PLOTLYENV || {};window.PLOTLYENV.BASE_URL=\"https://plot.ly\";Plotly.newPlot(\"40fe91c2-81b4-424c-8f29-ac2c795e0741\", [{\"colorscale\": \"Viridis\", \"reversescale\": true, \"x\": [\"Mango\", \"Strawberry\", \"Mulberry\", \"Orange\", \"Watermelon\"], \"y\": [\"Carton 1\", \"Carton 2\", \"Carton 3\"], \"z\": [[10, 20, 30, 40, 10], [20, 10, 50, 80, 30], [30, 50, 60, 10, 0]], \"type\": \"heatmap\", \"uid\": \"dd1122ae-a9e9-11e8-91d2-70c94eeec314\"}], {}, {\"showLink\": true, \"linkText\": \"Export to plot.ly\"})});</script>"
      ],
      "text/vnd.plotly.v1+html": [
       "<div id=\"40fe91c2-81b4-424c-8f29-ac2c795e0741\" style=\"height: 525px; width: 100%;\" class=\"plotly-graph-div\"></div><script type=\"text/javascript\">require([\"plotly\"], function(Plotly) { window.PLOTLYENV=window.PLOTLYENV || {};window.PLOTLYENV.BASE_URL=\"https://plot.ly\";Plotly.newPlot(\"40fe91c2-81b4-424c-8f29-ac2c795e0741\", [{\"colorscale\": \"Viridis\", \"reversescale\": true, \"x\": [\"Mango\", \"Strawberry\", \"Mulberry\", \"Orange\", \"Watermelon\"], \"y\": [\"Carton 1\", \"Carton 2\", \"Carton 3\"], \"z\": [[10, 20, 30, 40, 10], [20, 10, 50, 80, 30], [30, 50, 60, 10, 0]], \"type\": \"heatmap\", \"uid\": \"dd1122ae-a9e9-11e8-91d2-70c94eeec314\"}], {}, {\"showLink\": true, \"linkText\": \"Export to plot.ly\"})});</script>"
      ]
     },
     "metadata": {},
     "output_type": "display_data"
    }
   ],
   "source": [
    "data=[trace]\n",
    "\n",
    "offline.iplot(data)"
   ]
  },
  {
   "cell_type": "code",
   "execution_count": null,
   "metadata": {},
   "outputs": [],
   "source": []
  }
 ],
 "metadata": {
  "kernelspec": {
   "display_name": "Python 3",
   "language": "python",
   "name": "python3"
  },
  "language_info": {
   "codemirror_mode": {
    "name": "ipython",
    "version": 3
   },
   "file_extension": ".py",
   "mimetype": "text/x-python",
   "name": "python",
   "nbconvert_exporter": "python",
   "pygments_lexer": "ipython3",
   "version": "3.6.4"
  }
 },
 "nbformat": 4,
 "nbformat_minor": 2
}
